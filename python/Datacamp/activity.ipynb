{
 "cells": [
  {
   "cell_type": "code",
   "execution_count": 2,
   "metadata": {},
   "outputs": [
    {
     "name": "stdout",
     "output_type": "stream",
     "text": [
      "Purchase before the 21st for early access\n",
      "Coming soon!\n",
      "Coming soon!\n",
      "Coming soon!\n",
      "Coming soon!\n",
      "Coming soon!\n",
      "Available now!\n",
      "Available now!\n"
     ]
    }
   ],
   "source": [
    "release_date = 26\n",
    "current_date = 19\n",
    "\n",
    "# Create a condition where current_date is less than or equal to the release_date\n",
    "while current_date <= release_date:\n",
    "  \n",
    "  # Increment current_date by one\n",
    "  current_date = current_date + 1\n",
    "  \n",
    "  # Promote purchases\n",
    "  if current_date < 21:\n",
    "    print(\"Purchase before the 21st for early access\")\n",
    "  \n",
    "  # Check if the date is less than or equal to the 25th\n",
    "  elif current_date <= 25:\n",
    "    print(\"Coming soon!\")\n",
    "  else:\n",
    "    print(\"Available now!\")"
   ]
  },
  {
   "cell_type": "code",
   "execution_count": 4,
   "metadata": {},
   "outputs": [
    {
     "name": "stdout",
     "output_type": "stream",
     "text": [
      "HELLO WORLD\n"
     ]
    }
   ],
   "source": [
    "test = \"hello world\"\n",
    "\n",
    "print(test.upper())"
   ]
  }
 ],
 "metadata": {
  "kernelspec": {
   "display_name": "Python 3",
   "language": "python",
   "name": "python3"
  },
  "language_info": {
   "codemirror_mode": {
    "name": "ipython",
    "version": 3
   },
   "file_extension": ".py",
   "mimetype": "text/x-python",
   "name": "python",
   "nbconvert_exporter": "python",
   "pygments_lexer": "ipython3",
   "version": "3.12.0"
  }
 },
 "nbformat": 4,
 "nbformat_minor": 2
}
