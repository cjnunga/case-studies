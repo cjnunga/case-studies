{
 "cells": [
  {
   "cell_type": "code",
   "execution_count": 1,
   "metadata": {},
   "outputs": [
    {
     "name": "stdout",
     "output_type": "stream",
     "text": [
      "   ride_id  duration  user_birth_year\n",
      "1        2        20             1985\n",
      "3        2        20             1985\n",
      "5        5        50             2000\n",
      "6        5        50             2000\n"
     ]
    }
   ],
   "source": [
    "# Sample data for ride_sharing DataFrame\n",
    "import pandas as pd\n",
    "\n",
    "data = {\n",
    "    'ride_id': [1, 2, 3, 2, 4, 5, 5, 6],\n",
    "    'duration': [10, 20, 30, 20, 40, 50, 50, 60],\n",
    "    'user_birth_year': [1990, 1985, 1970, 1985, 1995, 2000, 2000, 1992]\n",
    "}\n",
    "ride_sharing = pd.DataFrame(data)\n",
    "\n",
    "# Find duplicates based on 'ride_id', keeping all occurrences of duplicates\n",
    "duplicates = ride_sharing[ride_sharing.duplicated(subset='ride_id', keep=False)]\n",
    "\n",
    "# Sort your duplicated rides by 'ride_id'\n",
    "duplicated_rides = duplicates.sort_values('ride_id')\n",
    "\n",
    "# Print relevant columns of duplicated_rides\n",
    "print(duplicated_rides[['ride_id', 'duration', 'user_birth_year']])\n"
   ]
  }
 ],
 "metadata": {
  "kernelspec": {
   "display_name": "Python 3",
   "language": "python",
   "name": "python3"
  },
  "language_info": {
   "codemirror_mode": {
    "name": "ipython",
    "version": 3
   },
   "file_extension": ".py",
   "mimetype": "text/x-python",
   "name": "python",
   "nbconvert_exporter": "python",
   "pygments_lexer": "ipython3",
   "version": "3.11.9"
  }
 },
 "nbformat": 4,
 "nbformat_minor": 2
}
